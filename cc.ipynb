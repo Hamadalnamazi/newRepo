{
 "cells": [
  {
   "cell_type": "code",
   "execution_count": 4,
   "metadata": {},
   "outputs": [
    {
     "data": {
      "application/javascript": [
       "IPython.notebook.set_autosave_interval(180000)"
      ]
     },
     "metadata": {},
     "output_type": "display_data"
    },
    {
     "name": "stdout",
     "output_type": "stream",
     "text": [
      "Autosaving every 180 seconds\n",
      "Populating the interactive namespace from numpy and matplotlib\n"
     ]
    }
   ],
   "source": [
    "# Set autosave to 3 minutes\n",
    "%autosave 180\n",
    "# ipython magic\n",
    "%pylab inline\n",
    "# Import modules\n",
    "import os\n",
    "import datetime as dt\n",
    "from scipy import stats\n",
    "import numpy as np\n",
    "import pandas as pd\n",
    "import seaborn as sns\n",
    "sns.set(style=\"whitegrid\", color_codes=True)\n",
    "import matplotlib as mpl\n",
    "import matplotlib.mlab as mlab\n",
    "import matplotlib.pyplot as plt\n",
    "#matplotlib.style.use('seaborn-paper')"
   ]
  },
  {
   "cell_type": "code",
   "execution_count": 6,
   "metadata": {},
   "outputs": [],
   "source": [
    "# This is Frist step to import CSV file and Fix problem came with ascii code\n",
    "Data_in_kickstarters = pd.read_csv(\"s.csv\",encoding = \"latin\")"
   ]
  },
  {
   "cell_type": "code",
   "execution_count": 7,
   "metadata": {},
   "outputs": [
    {
     "data": {
      "text/plain": [
       "(45957, 17)"
      ]
     },
     "execution_count": 7,
     "metadata": {},
     "output_type": "execute_result"
    }
   ],
   "source": [
    "# Dim for data set and to check csv work good\n",
    "Data_in_kickstarters.shape"
   ]
  },
  {
   "cell_type": "code",
   "execution_count": 8,
   "metadata": {},
   "outputs": [
    {
     "data": {
      "text/html": [
       "<div>\n",
       "<style scoped>\n",
       "    .dataframe tbody tr th:only-of-type {\n",
       "        vertical-align: middle;\n",
       "    }\n",
       "\n",
       "    .dataframe tbody tr th {\n",
       "        vertical-align: top;\n",
       "    }\n",
       "\n",
       "    .dataframe thead th {\n",
       "        text-align: right;\n",
       "    }\n",
       "</style>\n",
       "<table border=\"1\" class=\"dataframe\">\n",
       "  <thead>\n",
       "    <tr style=\"text-align: right;\">\n",
       "      <th></th>\n",
       "      <th>project id</th>\n",
       "      <th>name</th>\n",
       "      <th>url</th>\n",
       "      <th>category</th>\n",
       "      <th>subcategory</th>\n",
       "      <th>location</th>\n",
       "      <th>status</th>\n",
       "      <th>goal</th>\n",
       "      <th>pledged</th>\n",
       "      <th>funded percentage</th>\n",
       "      <th>backers</th>\n",
       "      <th>funded date</th>\n",
       "      <th>levels</th>\n",
       "      <th>reward levels</th>\n",
       "      <th>updates</th>\n",
       "      <th>comments</th>\n",
       "      <th>duration</th>\n",
       "    </tr>\n",
       "  </thead>\n",
       "  <tbody>\n",
       "    <tr>\n",
       "      <th>0</th>\n",
       "      <td>39409</td>\n",
       "      <td>WHILE THE TREES SLEEP</td>\n",
       "      <td>http://www.kickstarter.com/projects/emiliesaba...</td>\n",
       "      <td>Film &amp; Video</td>\n",
       "      <td>Short Film</td>\n",
       "      <td>Columbia, MO</td>\n",
       "      <td>successful</td>\n",
       "      <td>10500.0</td>\n",
       "      <td>11545.0</td>\n",
       "      <td>1.099524</td>\n",
       "      <td>66</td>\n",
       "      <td>Fri, 19 Aug 2011 19:28:17 -0000</td>\n",
       "      <td>7</td>\n",
       "      <td>$25,$50,$100,$250,$500,$1,000,$2,500</td>\n",
       "      <td>10</td>\n",
       "      <td>2</td>\n",
       "      <td>30.00</td>\n",
       "    </tr>\n",
       "    <tr>\n",
       "      <th>1</th>\n",
       "      <td>126581</td>\n",
       "      <td>Educational Online Trading Card Game</td>\n",
       "      <td>http://www.kickstarter.com/projects/972789543/...</td>\n",
       "      <td>Games</td>\n",
       "      <td>Board &amp; Card Games</td>\n",
       "      <td>Maplewood, NJ</td>\n",
       "      <td>failed</td>\n",
       "      <td>4000.0</td>\n",
       "      <td>20.0</td>\n",
       "      <td>0.005000</td>\n",
       "      <td>2</td>\n",
       "      <td>Mon, 02 Aug 2010 03:59:00 -0000</td>\n",
       "      <td>5</td>\n",
       "      <td>$1,$5,$10,$25,$50</td>\n",
       "      <td>6</td>\n",
       "      <td>0</td>\n",
       "      <td>47.18</td>\n",
       "    </tr>\n",
       "    <tr>\n",
       "      <th>2</th>\n",
       "      <td>138119</td>\n",
       "      <td>STRUM</td>\n",
       "      <td>http://www.kickstarter.com/projects/185476022/...</td>\n",
       "      <td>Film &amp; Video</td>\n",
       "      <td>Animation</td>\n",
       "      <td>Los Angeles, CA</td>\n",
       "      <td>live</td>\n",
       "      <td>20000.0</td>\n",
       "      <td>56.0</td>\n",
       "      <td>0.002800</td>\n",
       "      <td>3</td>\n",
       "      <td>Fri, 08 Jun 2012 00:00:31 -0000</td>\n",
       "      <td>10</td>\n",
       "      <td>$1,$10,$25,$40,$50,$100,$250,$1,000,$1,337,$9,001</td>\n",
       "      <td>1</td>\n",
       "      <td>0</td>\n",
       "      <td>28.00</td>\n",
       "    </tr>\n",
       "    <tr>\n",
       "      <th>3</th>\n",
       "      <td>237090</td>\n",
       "      <td>GETTING OVER - One son's search to finally kno...</td>\n",
       "      <td>http://www.kickstarter.com/projects/charnick/g...</td>\n",
       "      <td>Film &amp; Video</td>\n",
       "      <td>Documentary</td>\n",
       "      <td>Los Angeles, CA</td>\n",
       "      <td>successful</td>\n",
       "      <td>6000.0</td>\n",
       "      <td>6535.0</td>\n",
       "      <td>1.089167</td>\n",
       "      <td>100</td>\n",
       "      <td>Sun, 08 Apr 2012 02:14:00 -0000</td>\n",
       "      <td>13</td>\n",
       "      <td>$1,$10,$25,$30,$50,$75,$85,$100,$110,$250,$500...</td>\n",
       "      <td>4</td>\n",
       "      <td>0</td>\n",
       "      <td>32.22</td>\n",
       "    </tr>\n",
       "    <tr>\n",
       "      <th>4</th>\n",
       "      <td>246101</td>\n",
       "      <td>The Launch of FlyeGrlRoyalty &amp;quot;The New Nam...</td>\n",
       "      <td>http://www.kickstarter.com/projects/flyegrlroy...</td>\n",
       "      <td>Fashion</td>\n",
       "      <td>Fashion</td>\n",
       "      <td>Novi, MI</td>\n",
       "      <td>failed</td>\n",
       "      <td>3500.0</td>\n",
       "      <td>0.0</td>\n",
       "      <td>0.000000</td>\n",
       "      <td>0</td>\n",
       "      <td>Wed, 01 Jun 2011 15:25:39 -0000</td>\n",
       "      <td>6</td>\n",
       "      <td>$10,$25,$50,$100,$150,$250</td>\n",
       "      <td>2</td>\n",
       "      <td>0</td>\n",
       "      <td>30.00</td>\n",
       "    </tr>\n",
       "  </tbody>\n",
       "</table>\n",
       "</div>"
      ],
      "text/plain": [
       "   project id                                               name  \\\n",
       "0       39409                              WHILE THE TREES SLEEP   \n",
       "1      126581               Educational Online Trading Card Game   \n",
       "2      138119                                              STRUM   \n",
       "3      237090  GETTING OVER - One son's search to finally kno...   \n",
       "4      246101  The Launch of FlyeGrlRoyalty &quot;The New Nam...   \n",
       "\n",
       "                                                 url      category  \\\n",
       "0  http://www.kickstarter.com/projects/emiliesaba...  Film & Video   \n",
       "1  http://www.kickstarter.com/projects/972789543/...         Games   \n",
       "2  http://www.kickstarter.com/projects/185476022/...  Film & Video   \n",
       "3  http://www.kickstarter.com/projects/charnick/g...  Film & Video   \n",
       "4  http://www.kickstarter.com/projects/flyegrlroy...       Fashion   \n",
       "\n",
       "          subcategory         location      status     goal  pledged  \\\n",
       "0          Short Film     Columbia, MO  successful  10500.0  11545.0   \n",
       "1  Board & Card Games    Maplewood, NJ      failed   4000.0     20.0   \n",
       "2           Animation  Los Angeles, CA        live  20000.0     56.0   \n",
       "3         Documentary  Los Angeles, CA  successful   6000.0   6535.0   \n",
       "4             Fashion         Novi, MI      failed   3500.0      0.0   \n",
       "\n",
       "   funded percentage  backers                      funded date  levels  \\\n",
       "0           1.099524       66  Fri, 19 Aug 2011 19:28:17 -0000       7   \n",
       "1           0.005000        2  Mon, 02 Aug 2010 03:59:00 -0000       5   \n",
       "2           0.002800        3  Fri, 08 Jun 2012 00:00:31 -0000      10   \n",
       "3           1.089167      100  Sun, 08 Apr 2012 02:14:00 -0000      13   \n",
       "4           0.000000        0  Wed, 01 Jun 2011 15:25:39 -0000       6   \n",
       "\n",
       "                                       reward levels  updates  comments  \\\n",
       "0               $25,$50,$100,$250,$500,$1,000,$2,500       10         2   \n",
       "1                                  $1,$5,$10,$25,$50        6         0   \n",
       "2  $1,$10,$25,$40,$50,$100,$250,$1,000,$1,337,$9,001        1         0   \n",
       "3  $1,$10,$25,$30,$50,$75,$85,$100,$110,$250,$500...        4         0   \n",
       "4                         $10,$25,$50,$100,$150,$250        2         0   \n",
       "\n",
       "   duration  \n",
       "0     30.00  \n",
       "1     47.18  \n",
       "2     28.00  \n",
       "3     32.22  \n",
       "4     30.00  "
      ]
     },
     "execution_count": 8,
     "metadata": {},
     "output_type": "execute_result"
    }
   ],
   "source": [
    "# This step to display frist rows in data \n",
    "Data_in_kickstarters.head()"
   ]
  },
  {
   "cell_type": "code",
   "execution_count": null,
   "metadata": {},
   "outputs": [],
   "source": []
  },
  {
   "cell_type": "code",
   "execution_count": 9,
   "metadata": {},
   "outputs": [
    {
     "data": {
      "text/plain": [
       "Index(['PROJECT ID', 'NAME', 'URL', 'CATEGORY', 'SUBCATEGORY', 'LOCATION',\n",
       "       'STATUS', 'GOAL', 'PLEDGED', 'FUNDED PERCENTAGE', 'BACKERS',\n",
       "       'FUNDED DATE', 'LEVELS', 'REWARD LEVELS', 'UPDATES', 'COMMENTS',\n",
       "       'DURATION'],\n",
       "      dtype='object')"
      ]
     },
     "execution_count": 9,
     "metadata": {},
     "output_type": "execute_result"
    }
   ],
   "source": [
    "# This step to make name columns in upper case \n",
    "Data_in_kickstarters.columns = Data_in_kickstarters.columns.str.upper()\n",
    "Data_in_kickstarters.columns"
   ]
  },
  {
   "cell_type": "code",
   "execution_count": 10,
   "metadata": {},
   "outputs": [],
   "source": [
    "# These step to rename the columns to avoid spaces in\n",
    "Data_in_kickstarters1 = Data_in_kickstarters.rename(columns ={\"REWARD LEVELS\":\"REWARD_LEVELS\",\"FUNDED DATE\":\"FUNDED_DATE\",\"PROJECT ID\":\"PROJECT_ID\",\"FUNDED PERCENTAGE\":\"FUNDED_PERCENTAGE\",\"FUNDED DAT\":\"FUNDED_DAT\"})"
   ]
  },
  {
   "cell_type": "code",
   "execution_count": 43,
   "metadata": {},
   "outputs": [
    {
     "name": "stdout",
     "output_type": "stream",
     "text": [
      "0        11545.0\n",
      "1           20.0\n",
      "2           56.0\n",
      "3         6535.0\n",
      "4            0.0\n",
      "5         3582.0\n",
      "6          280.0\n",
      "7         2180.0\n",
      "8         1125.0\n",
      "9         9836.0\n",
      "10           0.0\n",
      "11         145.0\n",
      "12       20138.0\n",
      "13          75.0\n",
      "14         765.0\n",
      "15         310.0\n",
      "16           0.0\n",
      "17          50.0\n",
      "18        2925.0\n",
      "19        3511.0\n",
      "20         175.0\n",
      "21         110.0\n",
      "22        6860.0\n",
      "23        5536.0\n",
      "24         192.0\n",
      "25        7030.0\n",
      "26        8805.0\n",
      "27        1505.0\n",
      "28        6596.0\n",
      "29        1502.0\n",
      "          ...   \n",
      "45927      446.0\n",
      "45928      446.0\n",
      "45929     5390.0\n",
      "45930     5390.0\n",
      "45931     1220.0\n",
      "45932     1220.0\n",
      "45933      250.0\n",
      "45934      250.0\n",
      "45935      843.0\n",
      "45936      252.0\n",
      "45937      255.0\n",
      "45938     4400.0\n",
      "45939      298.0\n",
      "45940     2661.0\n",
      "45941       52.0\n",
      "45942    13151.0\n",
      "45943    31166.0\n",
      "45944     1516.0\n",
      "45945     2390.0\n",
      "45946        0.0\n",
      "45947     1614.0\n",
      "45948      884.0\n",
      "45949     2400.0\n",
      "45950    13494.0\n",
      "45951      750.0\n",
      "45952      601.0\n",
      "45953       75.0\n",
      "45954    10000.0\n",
      "45955      257.0\n",
      "45956    18758.0\n",
      "Name: PLEDGED, Length: 45957, dtype: float64\n"
     ]
    }
   ],
   "source": [
    "# Data need to cleanzing and one common issues with dataset is a null inside file and use fun fillin to avoid nan\n",
    "Data_in_kickstarters1.PLEDGED.isnull().sum()\n",
    "fill_data_0 = Data_in_kickstarters1.PLEDGED.fillna(0)\n",
    "print(fill_data_0)"
   ]
  },
  {
   "cell_type": "code",
   "execution_count": 12,
   "metadata": {},
   "outputs": [
    {
     "data": {
      "text/plain": [
       "count    4.594500e+04\n",
       "mean     4.980750e+03\n",
       "std      5.674162e+04\n",
       "min      0.000000e+00\n",
       "25%      1.960000e+02\n",
       "50%      1.310000e+03\n",
       "75%      4.165000e+03\n",
       "max      1.026684e+07\n",
       "Name: PLEDGED, dtype: float64"
      ]
     },
     "execution_count": 12,
     "metadata": {},
     "output_type": "execute_result"
    }
   ],
   "source": [
    "# To do some Statical culcalations with columns PLEDGED\n",
    "\n",
    "Data_in_kickstarters1['PLEDGED'].describe()\n"
   ]
  },
  {
   "cell_type": "code",
   "execution_count": 13,
   "metadata": {},
   "outputs": [
    {
     "name": "stdout",
     "output_type": "stream",
     "text": [
      "4980.749678963979 $\n"
     ]
    }
   ],
   "source": [
    "# Answer for Q.1\n",
    "Data_in_kickstarters1['PLEDGED'].mean()\n",
    "print(Data_in_kickstarters1['PLEDGED'].mean(),\"$\")"
   ]
  },
  {
   "cell_type": "code",
   "execution_count": 14,
   "metadata": {},
   "outputs": [
    {
     "data": {
      "image/png": "[encoded data removed]",
      "text/plain": [
       "<Figure size 432x288 with 1 Axes>"
      ]
     },
     "metadata": {},
     "output_type": "display_data"
    }
   ],
   "source": [
    "# Answer For Q.2 histogram that shows the distribution for number of backers\n",
    "plt.hist(Data_in_kickstarters1['BACKERS'])\n",
    "plt.xlabel(\"BACKERS\")\n",
    "plt.ylabel(\"Frq\")\n",
    "plt.title(\"Number of Backers\")\n",
    "plt.show()"
   ]
  },
  {
   "cell_type": "code",
   "execution_count": 15,
   "metadata": {},
   "outputs": [
    {
     "data": {
      "text/plain": [
       "DescribeResult(nobs=45957, minmax=(0, 87142), mean=69.97319233196248, variance=474209.1818907858, skewness=87.47111920387329, kurtosis=9340.226136115718)"
      ]
     },
     "execution_count": 15,
     "metadata": {},
     "output_type": "execute_result"
    }
   ],
   "source": [
    "# Answer For Q.2 Skewness\n",
    "\n",
    "stats.describe(Data_in_kickstarters1['BACKERS'])"
   ]
  },
  {
   "cell_type": "code",
   "execution_count": 16,
   "metadata": {},
   "outputs": [
    {
     "data": {
      "text/plain": [
       "count    24979.000000\n",
       "mean        46.829016\n",
       "std         29.133568\n",
       "min         12.000000\n",
       "25%         23.000000\n",
       "50%         39.000000\n",
       "75%         65.000000\n",
       "max        128.000000\n",
       "Name: BACKERS, dtype: float64"
      ]
     },
     "execution_count": 16,
     "metadata": {},
     "output_type": "execute_result"
    }
   ],
   "source": [
    "# Try to remove outliters\n",
    "\n",
    "zzz = Data_in_kickstarters1\n",
    "\n",
    "Remove_outliters = zzz[((zzz.BACKERS - zzz.BACKERS.mean()) / zzz.BACKERS.std()).abs() < .085]\n",
    "Remove_outliters['BACKERS'].describe()"
   ]
  },
  {
   "cell_type": "code",
   "execution_count": 92,
   "metadata": {},
   "outputs": [
    {
     "data": {
      "image/png": "[encoded data removed]",
      "text/plain": [
       "<Figure size 432x288 with 1 Axes>"
      ]
     },
     "metadata": {},
     "output_type": "display_data"
    }
   ],
   "source": [
    "# Create Histogram that shows the distribution for number of backers\n",
    "\n",
    "plt.hist(Remove_outliters[\"BACKERS\"])\n",
    "plt.xlabel(\"BACKERS\")\n",
    "plt.ylabel(\"Freq\")\n",
    "plt.title(\"Number of Backers without outliters\")\n",
    "plt.show()\n"
   ]
  },
  {
   "cell_type": "code",
   "execution_count": 106,
   "metadata": {},
   "outputs": [
    {
     "name": "stderr",
     "output_type": "stream",
     "text": [
      "/Users/mac/anaconda3/lib/python3.6/site-packages/matplotlib/axes/_axes.py:6462: UserWarning: The 'normed' kwarg is deprecated, and has been replaced by the 'density' kwarg.\n",
      "  warnings.warn(\"The 'normed' kwarg is deprecated, and has been \"\n",
      "/Users/mac/anaconda3/lib/python3.6/site-packages/ipykernel_launcher.py:10: MatplotlibDeprecationWarning: scipy.stats.norm.pdf\n",
      "  # Remove the CWD from sys.path while we load stuff.\n"
     ]
    },
    {
     "data": {
      "text/plain": [
       "[<matplotlib.lines.Line2D at 0x1a18910e80>]"
      ]
     },
     "execution_count": 106,
     "metadata": {},
     "output_type": "execute_result"
    },
    {
     "data": {
      "image/png": "[encoded data removed]",
      "text/plain": [
       "<Figure size 432x288 with 1 Axes>"
      ]
     },
     "metadata": {},
     "output_type": "display_data"
    }
   ],
   "source": [
    "# Is the ‘duration’ variable normally distributed\n",
    "\n",
    "plt.hist(x[\"DURATION\"], edgecolor='black', normed=True)\n",
    "plt.title(\"Project Duration Distribution vs Standard Normal\")\n",
    "\n",
    "# overlay normal curve\n",
    "\n",
    "mean = float(np.mean(x[\"DURATION\"]))\n",
    "sd = float(np.std(x[\"DURATION\"], ddof=1))\n",
    "min_chng = float(np.min(x[\"DURATION\"]))\n",
    "max_chng = float(np.max(x[\"DURATION\"]))\n",
    "a = np.linspace(min_chng, max_chng,100) # Like range\n",
    "\n",
    "plt.plot(a,mlab.normpdf(a,mean,sd))"
   ]
  },
  {
   "cell_type": "code",
   "execution_count": 24,
   "metadata": {},
   "outputs": [],
   "source": [
    "# Map 'status' column into boolean and make new column\n",
    "status_in_boolean = {'successful': True, 'failed': False, 'suspended': False, 'canceled':False}\n",
    "Data_in_kickstarters1['status_in_boolean'] = Data_in_kickstarters1['STATUS'].map(status_in_boolean)"
   ]
  },
  {
   "cell_type": "code",
   "execution_count": 26,
   "metadata": {},
   "outputs": [
    {
     "data": {
      "image/png": "[encoded data removed]",
      "text/plain": [
       "<Figure size 288x288 with 1 Axes>"
      ]
     },
     "metadata": {},
     "output_type": "display_data"
    }
   ],
   "source": [
    "# Plot showing rates of success by duration What's the best length of time to run a campaign?- \n",
    "\n",
    "sns.factorplot(x='STATUS', y='DURATION', data=Data_in_kickstarters1, kind='bar')\n",
    "plt.xlabel('STATUS')\n",
    "plt.ylabel('DURATION')\n",
    "plt.title(' Status by Duration')\n",
    "plt.show()\n"
   ]
  },
  {
   "cell_type": "code",
   "execution_count": 31,
   "metadata": {},
   "outputs": [
    {
     "data": {
      "image/png": "[encoded data removed]",
      "text/plain": [
       "<Figure size 288x288 with 1 Axes>"
      ]
     },
     "metadata": {},
     "output_type": "display_data"
    }
   ],
   "source": [
    "# Plot showing rates of success by duration What's the best length of time to run a campaign?- \n",
    "sns.factorplot(y='DURATION', x='status_in_boolean', data=Data_in_kickstarters1, kind='bar')\n",
    "plt.xlabel('')\n",
    "plt.ylabel('DURATION')\n",
    "plt.title('Project Sucess by Duration')\n",
    "plt.show()\n"
   ]
  },
  {
   "cell_type": "code",
   "execution_count": 28,
   "metadata": {},
   "outputs": [
    {
     "data": {
      "image/png": "[encoded data removed]",
      "text/plain": [
       "<Figure size 288x288 with 1 Axes>"
      ]
     },
     "metadata": {},
     "output_type": "display_data"
    }
   ],
   "source": [
    "# Plot showing rates of success by duration 2.2: What's the ideal pledge goal?\n",
    "sns.factorplot(x='STATUS', y='GOAL', data=Data_in_kickstarters1, kind='bar', ci=None)\n",
    "plt.xlabel('STATUS')\n",
    "plt.ylabel('GOAL')\n",
    "plt.title('Goals by Status')\n",
    "plt.show()"
   ]
  },
  {
   "cell_type": "code",
   "execution_count": 32,
   "metadata": {},
   "outputs": [
    {
     "data": {
      "image/png": "[encoded data removed]",
      "text/plain": [
       "<Figure size 288x288 with 1 Axes>"
      ]
     },
     "metadata": {},
     "output_type": "display_data"
    }
   ],
   "source": [
    "# Plot showing rates of success by duration  What's the ideal pledge goal?\n",
    "sns.factorplot(x='status_in_boolean', y='GOAL', data=Data_in_kickstarters1, kind='bar')\n",
    "plt.xlabel('Funded')\n",
    "plt.ylabel('Pledge Goal')\n",
    "plt.title('Pledge Goal by Project Success')\n",
    "plt.show()\n"
   ]
  },
  {
   "cell_type": "code",
   "execution_count": 33,
   "metadata": {},
   "outputs": [
    {
     "data": {
      "text/plain": [
       "['Film & Video',\n",
       " 'Games',\n",
       " 'Fashion',\n",
       " 'Music',\n",
       " 'Art',\n",
       " 'Technology',\n",
       " 'Dance',\n",
       " 'Publishing',\n",
       " 'Theater',\n",
       " 'Comics',\n",
       " 'Design',\n",
       " 'Photography',\n",
       " 'Food',\n",
       " 'Film &amp; Video']"
      ]
     },
     "execution_count": 33,
     "metadata": {},
     "output_type": "execute_result"
    }
   ],
   "source": [
    "# Print categories\n",
    "Data_in_kickstarters1['CATEGORY'].unique().tolist()"
   ]
  },
  {
   "cell_type": "code",
   "execution_count": 34,
   "metadata": {},
   "outputs": [
    {
     "data": {
      "text/plain": [
       "['Film & Video',\n",
       " 'Games',\n",
       " 'Fashion',\n",
       " 'Music',\n",
       " 'Art',\n",
       " 'Technology',\n",
       " 'Dance',\n",
       " 'Publishing',\n",
       " 'Theater',\n",
       " 'Comics',\n",
       " 'Design',\n",
       " 'Photography',\n",
       " 'Food']"
      ]
     },
     "execution_count": 34,
     "metadata": {},
     "output_type": "execute_result"
    }
   ],
   "source": [
    "# Replace bad data values in 'category' column\n",
    "Data_in_kickstarters1['CATEGORY'] = Data_in_kickstarters1['CATEGORY'].replace(['Film &amp; Video'], 'Film & Video')\n",
    "Data_in_kickstarters1['CATEGORY'].unique().tolist()"
   ]
  },
  {
   "cell_type": "code",
   "execution_count": 35,
   "metadata": {},
   "outputs": [
    {
     "data": {
      "image/png": "[encoded data removed]",
      "text/plain": [
       "<Figure size 288x288 with 1 Axes>"
      ]
     },
     "metadata": {},
     "output_type": "display_data"
    }
   ],
   "source": [
    "# Plot showing rates of success by duration\n",
    "sns.factorplot(y='CATEGORY', x='status_in_boolean', data=Data_in_kickstarters1, kind='bar')\n",
    "plt.xlabel('Percent Success')\n",
    "plt.ylabel('CATEGORY')\n",
    "plt.title('Success by Category')\n",
    "plt.show()"
   ]
  },
  {
   "cell_type": "code",
   "execution_count": 37,
   "metadata": {},
   "outputs": [],
   "source": [
    "# Create 'funded_month' column based on datetime conversion from 'funded_date' column\n",
    "\n",
    "Data_in_kickstarters1['funded_month'] = Data_in_kickstarters1['FUNDED_DATE'].apply(lambda x: dt.datetime.strptime(x, '%a, %d %b %Y %X -%f').strftime('%B'))\n",
    "\n",
    "\n",
    "# Create 'funded_weekday' column based on datetime conversion from 'funded_date' column\n",
    "\n",
    "Data_in_kickstarters1['funded_weekday'] = Data_in_kickstarters1['FUNDED_DATE'].apply(lambda x: dt.datetime.strptime(x, '%a, %d %b %Y %X -%f').strftime('%a'))\n",
    "\n"
   ]
  },
  {
   "cell_type": "code",
   "execution_count": 39,
   "metadata": {},
   "outputs": [
    {
     "data": {
      "image/png": "[encoded data removed]",
      "text/plain": [
       "<Figure size 288x288 with 1 Axes>"
      ]
     },
     "metadata": {},
     "output_type": "display_data"
    }
   ],
   "source": [
    "# Plot showing rates of success by weekday\n",
    "sns.factorplot(y='funded_weekday', x='status_in_boolean', data=Data_in_kickstarters1, kind='bar')\n",
    "plt.xlabel('Percent Succesful')\n",
    "plt.ylabel('Day of Funding')\n",
    "plt.title('Success by Funding Weekday')\n",
    "plt.show()"
   ]
  },
  {
   "cell_type": "code",
   "execution_count": 40,
   "metadata": {},
   "outputs": [
    {
     "data": {
      "image/png": "[encoded data removed]",
      "text/plain": [
       "<Figure size 288x288 with 1 Axes>"
      ]
     },
     "metadata": {},
     "output_type": "display_data"
    }
   ],
   "source": [
    "# Plot showing rates of success by MONTH\n",
    "sns.factorplot(y='funded_month', x='status_in_boolean', data=Data_in_kickstarters1, kind='bar')\n",
    "plt.xlabel('Funded Percentage')\n",
    "plt.ylabel('Month')\n",
    "plt.title('Success by Funding Month')\n",
    "plt.show()"
   ]
  },
  {
   "cell_type": "code",
   "execution_count": null,
   "metadata": {},
   "outputs": [],
   "source": []
  },
  {
   "cell_type": "code",
   "execution_count": null,
   "metadata": {},
   "outputs": [],
   "source": []
  }
 ],
 "metadata": {
  "kernelspec": {
   "display_name": "Python 3",
   "language": "python",
   "name": "python3"
  },
  "language_info": {
   "codemirror_mode": {
    "name": "ipython",
    "version": 3
   },
   "file_extension": ".py",
   "mimetype": "text/x-python",
   "name": "python",
   "nbconvert_exporter": "python",
   "pygments_lexer": "ipython3",
   "version": "3.6.5"
  }
 },
 "nbformat": 4,
 "nbformat_minor": 2
}
